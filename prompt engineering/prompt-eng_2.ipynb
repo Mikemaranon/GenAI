{
 "cells": [
  {
   "cell_type": "markdown",
   "metadata": {},
   "source": [
    "# OpenAI Parameters"
   ]
  },
  {
   "cell_type": "code",
   "execution_count": 3,
   "metadata": {},
   "outputs": [
    {
     "name": "stdout",
     "output_type": "stream",
     "text": [
      "Requirement already satisfied: openai in c:\\users\\mike\\anaconda3\\lib\\site-packages (1.59.7)\n",
      "Collecting openai\n",
      "  Downloading openai-1.60.2-py3-none-any.whl.metadata (27 kB)\n",
      "Requirement already satisfied: anyio<5,>=3.5.0 in c:\\users\\mike\\anaconda3\\lib\\site-packages (from openai) (4.2.0)\n",
      "Requirement already satisfied: distro<2,>=1.7.0 in c:\\users\\mike\\anaconda3\\lib\\site-packages (from openai) (1.9.0)\n",
      "Requirement already satisfied: httpx<1,>=0.23.0 in c:\\users\\mike\\anaconda3\\lib\\site-packages (from openai) (0.27.0)\n",
      "Requirement already satisfied: jiter<1,>=0.4.0 in c:\\users\\mike\\anaconda3\\lib\\site-packages (from openai) (0.8.2)\n",
      "Requirement already satisfied: pydantic<3,>=1.9.0 in c:\\users\\mike\\anaconda3\\lib\\site-packages (from openai) (2.5.3)\n",
      "Requirement already satisfied: sniffio in c:\\users\\mike\\anaconda3\\lib\\site-packages (from openai) (1.3.0)\n",
      "Requirement already satisfied: tqdm>4 in c:\\users\\mike\\anaconda3\\lib\\site-packages (from openai) (4.66.4)\n",
      "Requirement already satisfied: typing-extensions<5,>=4.11 in c:\\users\\mike\\anaconda3\\lib\\site-packages (from openai) (4.11.0)\n",
      "Requirement already satisfied: idna>=2.8 in c:\\users\\mike\\anaconda3\\lib\\site-packages (from anyio<5,>=3.5.0->openai) (3.7)\n",
      "Requirement already satisfied: certifi in c:\\users\\mike\\anaconda3\\lib\\site-packages (from httpx<1,>=0.23.0->openai) (2024.8.30)\n",
      "Requirement already satisfied: httpcore==1.* in c:\\users\\mike\\anaconda3\\lib\\site-packages (from httpx<1,>=0.23.0->openai) (1.0.2)\n",
      "Requirement already satisfied: h11<0.15,>=0.13 in c:\\users\\mike\\anaconda3\\lib\\site-packages (from httpcore==1.*->httpx<1,>=0.23.0->openai) (0.14.0)\n",
      "Requirement already satisfied: annotated-types>=0.4.0 in c:\\users\\mike\\anaconda3\\lib\\site-packages (from pydantic<3,>=1.9.0->openai) (0.6.0)\n",
      "Requirement already satisfied: pydantic-core==2.14.6 in c:\\users\\mike\\anaconda3\\lib\\site-packages (from pydantic<3,>=1.9.0->openai) (2.14.6)\n",
      "Requirement already satisfied: colorama in c:\\users\\mike\\anaconda3\\lib\\site-packages (from tqdm>4->openai) (0.4.6)\n",
      "Downloading openai-1.60.2-py3-none-any.whl (456 kB)\n",
      "Installing collected packages: openai\n",
      "  Attempting uninstall: openai\n",
      "    Found existing installation: openai 1.59.7\n",
      "    Uninstalling openai-1.59.7:\n",
      "      Successfully uninstalled openai-1.59.7\n",
      "Successfully installed openai-1.60.2\n"
     ]
    }
   ],
   "source": [
    "! pip install --upgrade openai"
   ]
  },
  {
   "cell_type": "markdown",
   "metadata": {},
   "source": [
    "# Overview\n",
    "When making requests to OpenAI models, several parameters can be used to control the behavior and output of the model. \\\n",
    "Understanding these parameters helps in fine-tuning the responses to meet specific requirements, whether for generating text, answering questions, or any other use case.\n",
    "\n",
    "For more detailed examples, refer to the official documentation [Azure OpenAI Service](https://learn.microsoft.com/en-us/azure/ai-services/openai/reference)\n"
   ]
  },
  {
   "cell_type": "code",
   "execution_count": 4,
   "metadata": {},
   "outputs": [],
   "source": [
    "import re\n",
    "import requests\n",
    "import sys\n",
    "import os\n",
    "from openai import AzureOpenAI\n",
    "import tiktoken\n",
    "from dotenv import load_dotenv\n",
    "load_dotenv()\n",
    "\n",
    "client = AzureOpenAI(\n",
    "    azure_endpoint=os.getenv(\"AZURE_OPENAI_ENDPOINT\"),\n",
    "    api_key=os.getenv(\"AZURE_OPENAI_API_KEY\"),\n",
    "    api_version=os.getenv(\"OPENAI_API_VERSION\")    \n",
    ")\n",
    "\n",
    "CHAT_COMPLETIONS_MODEL = \"gpt-4o-mini\"\n",
    "SEED = 123"
   ]
  },
  {
   "cell_type": "markdown",
   "metadata": {},
   "source": [
    "# Parameter: max_tokens\n",
    "**Description**: The maximum number of tokens to generate in the completion. \\\n",
    "**Default**: 16 \\\n",
    "**Example**: max_tokens=50\n",
    "\n",
    "The token count of your prompt plus max_tokens can't exceed the model's context length. \\\n",
    "Most models have a context length of 2048 tokens (except for the newest models, which support 4096). Please refer to documentation."
   ]
  },
  {
   "cell_type": "code",
   "execution_count": 6,
   "metadata": {},
   "outputs": [
    {
     "name": "stdout",
     "output_type": "stream",
     "text": [
      "Max Tokens: 16\n",
      "\n",
      "The best pet really depends on individual preferences and lifestyles! Some people may consider dogs\n",
      "\n",
      "--------------------------------------------------------------------------------\n",
      "\n",
      "Max Tokens: 32\n",
      "\n",
      "The best pet can vary greatly depending on individual preferences, lifestyles, and living situations. Here are a few popular options along with their benefits:\n",
      "\n",
      "1. **Dogs\n",
      "\n",
      "--------------------------------------------------------------------------------\n",
      "\n",
      "Max Tokens: 60\n",
      "\n",
      "The best pet can vary greatly depending on individual preferences, lifestyles, and needs. Some popular choices include:\n",
      "\n",
      "1. **Dogs**: Known for their loyalty and companionship, dogs are often considered \"man's best friend.\" They require regular exercise and social interaction.\n",
      "\n",
      "2. **Cats**: Cats can be\n",
      "\n",
      "--------------------------------------------------------------------------------\n",
      "\n",
      "Max Tokens: 100\n",
      "\n",
      "The best pet is subjective and depends on individual preferences and lifestyle. Some people might argue that dogs are the best pets due to their loyalty, companionship, and ability to bond with humans. Others might prefer cats for their independence and low-maintenance nature. \n",
      "\n",
      "For those with less space or time, small pets like hamsters, guinea pigs, or fish can be great choices. Additionally, some people appreciate exotic pets, like reptiles or birds, for their unique characteristics. Ultimately, the best pet is one\n",
      "\n",
      "--------------------------------------------------------------------------------\n",
      "\n"
     ]
    }
   ],
   "source": [
    "def call_openai_with_max_tokens(max_tokens):\n",
    "    response = client.chat.completions.create(\n",
    "          model=\"gpt-4o-mini\",\n",
    "          messages = [{\"role\":\"system\", \"content\":\"You are a helpful assistant.\"},\n",
    "                    {\"role\":\"user\",\"content\": \"The best pet is a\"}],\n",
    "                    max_tokens=max_tokens\n",
    "    )\n",
    "    return response.choices[0].message.content\n",
    "\n",
    "# Generate with different presence_penalty values\n",
    "penalties = [16, 32, 60, 100]\n",
    "for penalty in penalties:\n",
    "    print(f\"Max Tokens: {penalty}\\n\")\n",
    "    print(call_openai_with_max_tokens(penalty))\n",
    "    print(\"\\n\" + \"-\"*80 + \"\\n\")"
   ]
  },
  {
   "attachments": {},
   "cell_type": "markdown",
   "metadata": {},
   "source": [
    "# Parameter: temperature\n",
    "\n",
    "**Description**: Controls the randomness of the output. Lower values make the output more deterministic, while higher values increase randomness. \\\n",
    "**Value Range**: 0 to 1 \\\n",
    "**Default Value**: 1 \\\n",
    "**Example**: temperature=0.7\n",
    "\n",
    "Higher values means the model will take more risks. \\\n",
    "Try 0.9 for more creative applications, and 0 (argmax sampling) for ones with a well-defined answer.\n",
    "\n",
    "---\n",
    "**NOTE**: We generally recommend altering this or top_p but not both.\n"
   ]
  },
  {
   "cell_type": "code",
   "execution_count": 8,
   "metadata": {},
   "outputs": [],
   "source": [
    "def call_openai(num_times, prompt, temperature=0.75, use_seed=False):\n",
    "    for i in range(num_times):\n",
    "        if use_seed:\n",
    "            response = client.chat.completions.create(\n",
    "                model = CHAT_COMPLETIONS_MODEL,\n",
    "                messages = [{\"role\": \"user\", \"content\": prompt}],\n",
    "                    max_tokens=60,\n",
    "                    seed=SEED,\n",
    "                    temperature = temperature\n",
    "            )\n",
    "        else:\n",
    "            response = client.chat.completions.create(\n",
    "                model= CHAT_COMPLETIONS_MODEL,\n",
    "                messages = [{\"role\": \"user\", \"content\": prompt}],\n",
    "                    max_tokens=60,\n",
    "                    temperature = temperature\n",
    "            )\n",
    "        print(response.choices[0].message.content)"
   ]
  },
  {
   "cell_type": "code",
   "execution_count": 9,
   "metadata": {},
   "outputs": [
    {
     "name": "stdout",
     "output_type": "stream",
     "text": [
      "The best pet can vary greatly depending on individual preferences, lifestyles, and living situations. Some people might find dogs to be the best pets due to their loyalty, companionship, and ability to be trained. Others might prefer cats for their independence and lower maintenance. Small pets like hamsters, guinea pigs,\n",
      "The best pet is a matter of personal preference and can vary greatly depending on individual lifestyles, living situations, and personal tastes. Some people might say dogs are the best pets because of their loyalty and companionship, while others might prefer cats for their independence and lower maintenance. Small animals like hamsters, rabbits\n",
      "The best pet is often subjective and depends on individual preferences, lifestyles, and living situations. Some people might say dogs are the best pets because of their loyalty and companionship, while others might prefer cats for their independence and low maintenance. Small animals like hamsters or guinea pigs can be great for those with\n",
      "The best pet often depends on individual preferences and lifestyles. Here are a few popular options:\n",
      "\n",
      "1. **Dog**: Known for their loyalty and companionship, dogs are great for active individuals or families.\n",
      "2. **Cat**: Independent and low-maintenance, cats can be perfect for those who want\n",
      "The best pet is subjective and often depends on individual preferences, lifestyle, and living situation. Some people might find dogs to be the best pets due to their loyalty and companionship, while others may prefer cats for their independence and low maintenance. Small pets like hamsters or rabbits can be great for those with\n",
      "The best pet can vary greatly depending on individual preferences, lifestyles, and living situations. Here are a few popular options:\n",
      "\n",
      "1. **Dogs**: Known for their loyalty and companionship, dogs are great for active individuals and families. They require regular exercise and attention.\n",
      "\n",
      "2. **Cats**: Cats\n",
      "The best pet can vary greatly depending on individual preferences, lifestyles, and living situations. Some might argue that dogs are the best pets due to their loyalty and companionship, while others might prefer cats for their independence and lower maintenance. Small animals like rabbits, hamsters, or guinea pigs can also be excellent\n",
      "The best pet can vary depending on individual preferences and lifestyles! Some people might consider dogs to be the best pets because of their loyalty and companionship. Others might prefer cats for their independence and low maintenance. Small pets like hamsters or guinea pigs can be great for those with limited space, while fish offer\n",
      "The best pet can vary greatly depending on individual preferences, lifestyles, and living situations. Some popular options include:\n",
      "\n",
      "- **Dogs**: Often considered loyal companions, they require regular exercise and social interaction.\n",
      "- **Cats**: Generally more independent, they can be affectionate and are often lower maintenance than dogs\n",
      "The best pet often depends on individual preferences and lifestyle. Some people love dogs for their loyalty and companionship, while others prefer cats for their independence and low maintenance. Small animals like hamsters or guinea pigs can be great for those with limited space, while fish can provide a calming presence in a home.\n"
     ]
    }
   ],
   "source": [
    "# Without seed and temperature, the response is different each time\n",
    "call_openai(10, 'The best pet is a ')"
   ]
  },
  {
   "cell_type": "code",
   "execution_count": 10,
   "metadata": {},
   "outputs": [
    {
     "name": "stdout",
     "output_type": "stream",
     "text": [
      "The best pet can vary greatly depending on individual preferences, lifestyles, and living situations. Some popular options include:\n",
      "\n",
      "1. **Dogs**: Known for their loyalty and companionship, dogs are often considered \"man's best friend.\" They require regular exercise and social interaction.\n",
      "\n",
      "2. **Cats**: Independent and\n",
      "The best pet can vary greatly depending on individual preferences, lifestyles, and living situations. Some people might consider dogs the best pets due to their loyalty and companionship, while others might prefer cats for their independence and low maintenance. Small animals like hamsters, rabbits, or guinea pigs can be great for those\n",
      "The best pet can vary greatly depending on individual preferences, lifestyles, and living situations. Some people might consider dogs the best pets due to their loyalty and companionship, while others might prefer cats for their independence and low maintenance. Small animals like hamsters, rabbits, or guinea pigs can be great for those\n",
      "The best pet can vary greatly depending on individual preferences, lifestyles, and living situations. Some people might consider dogs the best pets due to their loyalty and companionship, while others might prefer cats for their independence and low maintenance. Small animals like hamsters or guinea pigs can be great for those with limited space\n",
      "The best pet can vary greatly depending on individual preferences, lifestyles, and living situations. Some people might consider dogs the best pets due to their loyalty and companionship, while others might prefer cats for their independence and low maintenance. Small animals like hamsters or guinea pigs can be great for those with limited space\n",
      "The best pet can vary greatly depending on individual preferences, lifestyles, and living situations. Some people might argue that dogs are the best pets due to their loyalty, companionship, and ability to bond with humans. Others might prefer cats for their independence and low-maintenance nature. Small animals like hamsters,\n",
      "The best pet can vary greatly depending on individual preferences, lifestyles, and living situations. Some people might consider dogs the best pets due to their loyalty and companionship, while others might prefer cats for their independence and low maintenance. Small animals like hamsters, rabbits, or guinea pigs can be great for those\n",
      "The best pet can vary greatly depending on individual preferences, lifestyles, and living situations. Some people might consider dogs the best pets due to their loyalty and companionship, while others might prefer cats for their independence and low maintenance. Small animals like hamsters, rabbits, or guinea pigs can be great for those\n",
      "The best pet can vary greatly depending on individual preferences, lifestyles, and living situations. Some people might consider dogs the best pets due to their loyalty and companionship, while others might prefer cats for their independence and low maintenance. Small animals like hamsters, rabbits, or guinea pigs can be great for those\n",
      "The best pet can vary greatly depending on individual preferences, lifestyles, and living situations. Some popular options include:\n",
      "\n",
      "1. **Dogs**: Known for their loyalty and companionship, dogs are great for active individuals or families.\n",
      "2. **Cats**: Independent and low-maintenance, cats can be perfect\n"
     ]
    }
   ],
   "source": [
    "# Now using a seed and 0 temperature, the response is the much more consisitent\n",
    "call_openai(10, 'The best pet is a ', temperature = 0, use_seed=True)"
   ]
  },
  {
   "attachments": {},
   "cell_type": "markdown",
   "metadata": {},
   "source": [
    "# Parameter: n\n",
    "**Description**: Specifies the number of completions to generate for each prompt. \\\n",
    "**Default Value**: 1 \\\n",
    "**Example**: n = 3 \n",
    "\n",
    "---\n",
    "**Note**: Because this parameter generates many completions, it can quickly consume your token quota. Use carefully and ensure that you have reasonable settings for max_tokens and stop."
   ]
  },
  {
   "cell_type": "code",
   "execution_count": 12,
   "metadata": {},
   "outputs": [
    {
     "name": "stdout",
     "output_type": "stream",
     "text": [
      "0 Of course! How can I assist you today?\n",
      "1 Of course! I'm here to help. What do you need assistance with?\n",
      "2 Of course! How can I assist you today?\n"
     ]
    }
   ],
   "source": [
    "response = client.chat.completions.create(\n",
    "    model=CHAT_COMPLETIONS_MODEL,\n",
    "    messages=[{\"role\": \"system\", \"content\": \"you are a helpful assistant\"},\n",
    "              {\"role\": \"user\", \"content\": \"help me\"}],  # Example messages\n",
    "    max_tokens=60,\n",
    "    n=3\n",
    ")\n",
    "\n",
    "for index, c in enumerate(response.choices):\n",
    "    print(index, c.message.content)"
   ]
  },
  {
   "attachments": {},
   "cell_type": "markdown",
   "metadata": {},
   "source": [
    "# Parameter: presence_penalty\n",
    "**Description**: Penalizes new tokens based on whether they appear in the text so far, encouraging the model to use new tokens. \\\n",
    "**Value Range**: -2.0 to 2.0 \\\n",
    "**Default Value**: 0 \\\n",
    "**Example**: presence_penalty=0.5"
   ]
  },
  {
   "cell_type": "code",
   "execution_count": 13,
   "metadata": {},
   "outputs": [
    {
     "name": "stdout",
     "output_type": "stream",
     "text": [
      "Presence Penalty: 0\n",
      "\n",
      "The best pet really depends on an individual's lifestyle, preferences, and needs. Here are a few options:\n",
      "\n",
      "1. **Dogs**: Known for their loyalty and companionship, dogs are great for active individuals or families. They can provide emotional support and encourage outdoor activities.\n",
      "\n",
      "2. **Cats**: Independent\n",
      "\n",
      "--------------------------------------------------------------------------------\n",
      "\n",
      "Presence Penalty: 0.5\n",
      "\n",
      "The best pet can vary greatly depending on an individual's lifestyle, preferences, and needs. Some popular options include:\n",
      "\n",
      "1. **Dogs** - Known as \"man's best friend,\" they are loyal, social, and great companions. They require regular exercise and attention.\n",
      "  \n",
      "2. **Cats** - Independent\n",
      "\n",
      "--------------------------------------------------------------------------------\n",
      "\n",
      "Presence Penalty: 1.0\n",
      "\n",
      "The best pet can vary greatly depending on an individual’s lifestyle, preferences, and needs. Popular options include:\n",
      "\n",
      "1. **Dogs**: Known for their loyalty and companionship, dogs are often regarded as \"man's best friend.\" They require regular exercise and training but offer affection and protection.\n",
      "   \n",
      "2.\n",
      "\n",
      "--------------------------------------------------------------------------------\n",
      "\n",
      "Presence Penalty: 1.5\n",
      "\n",
      "The best pet can vary greatly depending on individual preferences, lifestyles, and needs. Here are a few popular options:\n",
      "\n",
      "1. **Dogs**: Known for their loyalty and companionship, dogs are often considered \"man's best friend.\" They require regular exercise and social interaction.\n",
      "\n",
      "2. **Cats**: Cats\n",
      "\n",
      "--------------------------------------------------------------------------------\n",
      "\n",
      "Presence Penalty: 2.0\n",
      "\n",
      "The best pet varies depending on individual preferences, lifestyles, and living situations. Here are some popular options:\n",
      "\n",
      "1. **Dogs**: Known for their loyalty and companionship, dogs can be great if you have the time to train and exercise them.\n",
      "\n",
      "2. **Cats**: Cats are independent and lower\n",
      "\n",
      "--------------------------------------------------------------------------------\n",
      "\n"
     ]
    }
   ],
   "source": [
    "def call_openai_with_presence_penalty(presence_penalty):\n",
    "    response = client.chat.completions.create(\n",
    "          model=CHAT_COMPLETIONS_MODEL,\n",
    "          messages = [{\"role\":\"system\", \"content\":\"You are a helpful assistant.\"},\n",
    "                    {\"role\":\"user\",\"content\": \"The best pet is a\"}],\n",
    "                    max_tokens=60,\n",
    "                    presence_penalty= presence_penalty\n",
    "    )\n",
    "    return response.choices[0].message.content\n",
    "\n",
    "# Generate with different presence_penalty values\n",
    "penalties = [0, 0.5, 1.0, 1.5, 2.0]\n",
    "for penalty in penalties:\n",
    "    print(f\"Presence Penalty: {penalty}\\n\")\n",
    "    print(call_openai_with_presence_penalty(penalty))\n",
    "    print(\"\\n\" + \"-\"*80 + \"\\n\")"
   ]
  },
  {
   "cell_type": "markdown",
   "metadata": {},
   "source": [
    "# Parameter: frequency_penalty\n",
    "**Description**: Penalizes new tokens based on their existing frequency in the text so far, reducing the likelihood of repeating the same line verbatim. \\\n",
    "**Value Range**: -2.0 to 2.0 \\\n",
    "**Default Value**: 0 \\\n",
    "**Example**: frequency_penalty=0.5"
   ]
  },
  {
   "cell_type": "markdown",
   "metadata": {},
   "source": [
    "#### Use cases to explore\n",
    "1. **Compare Responses** \\\n",
    "Generate multiple completions to compare and choose the best response for your use case.\n",
    "\n",
    "2. **Increase Diversity** \\\n",
    "Use multiple completions to get a variety of responses, which is useful in creative applications.\n",
    "\n",
    "3. **Enhance Robustness** \\\n",
    "Generate multiple responses to ensure consistency and accuracy across different completions.\n",
    "\n",
    "#### Best Practices\n",
    "1. **Optimize Prompt Length** \\\n",
    "Keep your prompts concise but informative to ensure the model has enough context.\n",
    "\n",
    "2. **Adjust Temperature and Top_p** \\\n",
    "Use these parameters to balance between deterministic and creative responses.\n",
    "\n",
    "3. **Monitor Token Usage** \\\n",
    "Be mindful of the max_tokens parameter to manage costs and response length.\n",
    "\n",
    "4. **Use Stopping Sequences** \\\n",
    "Define stopping sequences to control where the model should stop generating text, ensuring the output is within the desired context.\n",
    "\n",
    "5. **Generate Multiple Completions** \\\n",
    "Use the n parameter to generate multiple completions and select the best one for your needs."
   ]
  },
  {
   "cell_type": "markdown",
   "metadata": {},
   "source": [
    "## Exercise 1: Exploring 'top_p' Parameter\n",
    "### Description:\n",
    "- The 'top_p' parameter controls nucleus sampling. Lower values make the output more focused by limiting the pool of tokens.\n",
    "\n",
    "### Task:\n",
    "- Write a function that calls the model with different 'top_p' values and observe how the output changes.\n"
   ]
  },
  {
   "cell_type": "code",
   "execution_count": 16,
   "metadata": {},
   "outputs": [
    {
     "name": "stdout",
     "output_type": "stream",
     "text": [
      "Top P: 0.1\n",
      "\n",
      "Exercise offers a wide range of benefits for both physical and mental health. Here are some of the key advantages:\n",
      "\n",
      "### Physical Health Benefits\n",
      "\n",
      "1. **Improved Cardiovascular Health**: Regular exercise strengthens the heart, improves circulation, and helps lower blood pressure and cholesterol levels.\n",
      "\n",
      "2. **Weight Management\n",
      "\n",
      "--------------------------------------------------------------------------------\n",
      "\n",
      "Top P: 0.3\n",
      "\n",
      "Exercise offers a wide range of benefits for both physical and mental health. Here are some of the key advantages:\n",
      "\n",
      "### Physical Health Benefits\n",
      "1. **Improved Cardiovascular Health**: Regular exercise strengthens the heart, improves circulation, and helps lower blood pressure and cholesterol levels.\n",
      "2. **Weight Management\n",
      "\n",
      "--------------------------------------------------------------------------------\n",
      "\n",
      "Top P: 0.7\n",
      "\n",
      "Exercise offers a wide range of benefits for both physical and mental health. Here are some key advantages:\n",
      "\n",
      "### Physical Health Benefits\n",
      "\n",
      "1. **Improved Cardiovascular Health**: Regular exercise strengthens the heart, improves circulation, and can lower blood pressure and cholesterol levels, reducing the risk of heart disease.\n",
      "\n",
      "\n",
      "\n",
      "--------------------------------------------------------------------------------\n",
      "\n",
      "Top P: 1.0\n",
      "\n",
      "Exercise offers a wide range of benefits for physical, mental, and emotional health. Here are some of the key benefits:\n",
      "\n",
      "### Physical Health Benefits\n",
      "1. **Improved Cardiovascular Health**: Regular exercise strengthens the heart, improves circulation, and enhances overall cardiovascular efficiency.\n",
      "2. **Weight Management**\n",
      "\n",
      "--------------------------------------------------------------------------------\n",
      "\n"
     ]
    }
   ],
   "source": [
    "def call_openai_with_top_p(top_p):\n",
    "    response = client.chat.completions.create(\n",
    "          model= CHAT_COMPLETIONS_MODEL,\n",
    "          messages = [{\"role\":\"system\", \"content\":\"You are a helpful assistant.\"},\n",
    "                    {\"role\":\"user\",\"content\": \"Describe the benefits of exercise.\"}],\n",
    "                    max_tokens=60,\n",
    "                    top_p= top_p\n",
    "        )\n",
    "    return response.choices[0].message.content\n",
    "    \n",
    "# Try with different values of top_p\n",
    "top_p_values = [0.1, 0.3, 0.7, 1.0]\n",
    "for value in top_p_values:\n",
    "    print(f\"Top P: {value}\\n\")\n",
    "    print(call_openai_with_top_p(value))\n",
    "    print(\"\\n\" + \"-\"*80 + \"\\n\")\n"
   ]
  },
  {
   "cell_type": "markdown",
   "metadata": {},
   "source": [
    "## Exercise 2: Frequency Penalty Exploration\n",
    "### Description:\n",
    "- This exercise will explore how the 'frequency_penalty' parameter affects the model's tendency to repeat itself.\n",
    "\n",
    "### Task:\n",
    "- Generate completions using different frequency_penalty values and note the diversity in responses.\n",
    "\n"
   ]
  },
  {
   "cell_type": "code",
   "execution_count": 17,
   "metadata": {},
   "outputs": [
    {
     "name": "stdout",
     "output_type": "stream",
     "text": [
      "Frequency Penalty: -1.0\n",
      "\n",
      "A fun fact about space is that there is a giant cloud of alcohol in space! Specifically, a massive cloud of ethyl alcohol, which is the same alcohol found in alcoholic beverages, has been discovered in a region of space called Sagittarius B2, near the center of our Milky Way galaxy.\n",
      "\n",
      "--------------------------------------------------------------------------------\n",
      "\n",
      "Frequency Penalty: 0.0\n",
      "\n",
      "A fun fact about space is that it’s completely silent! Unlike on Earth, where sound travels through air or water, space is a near-perfect vacuum, meaning there are very few particles to carry sound waves. This is why, when astronauts are in space, they cannot hear sounds unless they are in\n",
      "\n",
      "--------------------------------------------------------------------------------\n",
      "\n",
      "Frequency Penalty: 1.0\n",
      "\n",
      "Sure! Did you know that space is completely silent? Unlike on Earth, where sound travels through the air, space is a vacuum. This means there are no molecules to transmit sound waves, so if you were floating in space and screamed, no one would be able to hear you!\n",
      "\n",
      "--------------------------------------------------------------------------------\n",
      "\n",
      "Frequency Penalty: 2.0\n",
      "\n",
      "Sure! Here's a fun fact: In space, there is no atmosphere, which means sound cannot travel. This means that if you were to shout in space, nobody would hear you! The vacuum of space prevents sound waves from propagating, so communication relies on radio waves instead.\n",
      "\n",
      "--------------------------------------------------------------------------------\n",
      "\n"
     ]
    }
   ],
   "source": [
    "def call_openai_with_frequency_penalty(frequency_penalty):\n",
    "    response = client.chat.completions.create(\n",
    "          model=CHAT_COMPLETIONS_MODEL,\n",
    "          messages = [{\"role\":\"system\", \"content\":\"You are a helpful assistant.\"},\n",
    "                    {\"role\":\"user\",\"content\": \"Tell me a fun fact about space.\"}],\n",
    "                    max_tokens=60,\n",
    "                    frequency_penalty= frequency_penalty\n",
    "    )\n",
    "    return response.choices[0].message.content\n",
    "\n",
    "penalties = [-1.0, 0.0, 1.0, 2.0]\n",
    "for penalty in penalties:\n",
    "    print(f\"Frequency Penalty: {penalty}\\n\")\n",
    "    print(call_openai_with_frequency_penalty(penalty))\n",
    "    print(\"\\n\" + \"-\"*80 + \"\\n\")\n"
   ]
  },
  {
   "cell_type": "markdown",
   "metadata": {},
   "source": [
    "## Exercise 3: Multi-Completion with 'n' Parameter\n",
    "### Description:\n",
    "- This exercise will help students generate multiple completions for the same prompt and compare the results.\n",
    "\n",
    "### Task:\n",
    "- Generate 3 completions for the same prompt by adjusting the 'n' parameter.\n"
   ]
  },
  {
   "cell_type": "code",
   "execution_count": 19,
   "metadata": {},
   "outputs": [
    {
     "name": "stdout",
     "output_type": "stream",
     "text": [
      "0 Of course! What do you need help with?\n",
      "1 Of course! How can I assist you today?\n",
      "2 Of course! How can I assist you today?\n"
     ]
    }
   ],
   "source": [
    "response = client.chat.completions.create(\n",
    "    model=CHAT_COMPLETIONS_MODEL,\n",
    "    messages=[{\"role\": \"system\", \"content\": \"you are a helpful assistant\"},\n",
    "              {\"role\": \"user\", \"content\": \"help me\"}],  # Example messages\n",
    "    max_tokens=60,\n",
    "    n=3\n",
    ")\n",
    "\n",
    "for index, c in enumerate(response.choices):\n",
    "    print(index, c.message.content)"
   ]
  },
  {
   "cell_type": "markdown",
   "metadata": {},
   "source": [
    "## Exercise 4: Temperature vs. Deterministic Output\n",
    "### Description:\n",
    "- Adjust the 'temperature' parameter to explore the balance between creative and deterministic responses.\n",
    "\n",
    "### Task:\n",
    "- Generate completions with different temperature values and analyze the variance in output.\n"
   ]
  },
  {
   "cell_type": "code",
   "execution_count": 20,
   "metadata": {},
   "outputs": [
    {
     "name": "stdout",
     "output_type": "stream",
     "text": [
      "Temperature: 0.0\n",
      "\n",
      "Sure! Here are some suggestions for a tech startup name:\n",
      "\n",
      "1. **InnoVate**\n",
      "2. **TechNest**\n",
      "3. **N\n",
      "\n",
      "--------------------------------------------------------------------------------\n",
      "\n",
      "Temperature: 0.3\n",
      "\n",
      "Sure! Here are some suggestions for a tech startup name:\n",
      "\n",
      "1. **InnoVate**\n",
      "2. **TechNest**\n",
      "3. **N\n",
      "\n",
      "--------------------------------------------------------------------------------\n",
      "\n",
      "Temperature: 0.7\n",
      "\n",
      "Sure! Here are some suggestions for a tech startup name:\n",
      "\n",
      "1. **Innovatech**\n",
      "2. **NexGen Solutions**\n",
      "3. **\n",
      "\n",
      "--------------------------------------------------------------------------------\n",
      "\n",
      "Temperature: 1.0\n",
      "\n",
      "Here are some suggestions for a tech startup name:\n",
      "\n",
      "1. **TechNova**\n",
      "2. **InnoVerse**\n",
      "3. **CodeCrafters\n",
      "\n",
      "--------------------------------------------------------------------------------\n",
      "\n"
     ]
    }
   ],
   "source": [
    "def call_openai_with_temperature(temperature):\n",
    "    response = client.chat.completions.create(\n",
    "          model=CHAT_COMPLETIONS_MODEL,\n",
    "          messages = [{\"role\":\"system\", \"content\":\"You are a helpful assistant.\"},\n",
    "                    {\"role\":\"user\",\"content\": \"Suggest a name for a new tech startup.\"}],\n",
    "                    max_tokens=30,\n",
    "                    temperature= temperature\n",
    "    )\n",
    "    return response.choices[0].message.content\n",
    "\n",
    "temperatures = [0.0, 0.3, 0.7, 1.0]\n",
    "for temp in temperatures:\n",
    "    print(f\"Temperature: {temp}\\n\")\n",
    "    print(call_openai_with_temperature(temp))\n",
    "    print(\"\\n\" + \"-\"*80 + \"\\n\")"
   ]
  }
 ],
 "metadata": {
  "kernelspec": {
   "display_name": "base",
   "language": "python",
   "name": "python3"
  },
  "language_info": {
   "codemirror_mode": {
    "name": "ipython",
    "version": 3
   },
   "file_extension": ".py",
   "mimetype": "text/x-python",
   "name": "python",
   "nbconvert_exporter": "python",
   "pygments_lexer": "ipython3",
   "version": "3.12.4"
  }
 },
 "nbformat": 4,
 "nbformat_minor": 4
}
